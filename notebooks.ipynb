{
 "cells": [
  {
   "attachments": {},
   "cell_type": "markdown",
   "metadata": {},
   "source": [
    "# Making My Own Spotify Wrapped!\n",
    "When the yearly Spotify Wrapped drops you get to see some statistics on music and podcast streaming. We will explore the underlying data for Spotify Wrapped even more by digging into our own streaming history for the past year!\n",
    "\n",
    "The tool we will be using for visualizing our data is plotly, a Python library which uses a friendly interface to make interactive and pretty graphs. As always when dealing with data we also need to do some data wrangling. For this we will primarily use the library pandas.\n"
   ]
  },
  {
   "cell_type": "code",
   "execution_count": 1,
   "metadata": {},
   "outputs": [],
   "source": [
    "# Import libraries\n",
    "import pandas as pd\n",
    "import plotly.express as px\n",
    "from datetime import datetime\n",
    "from skimpy import skim"
   ]
  },
  {
   "attachments": {},
   "cell_type": "markdown",
   "metadata": {},
   "source": [
    "## Preparations\n",
    "\n",
    "### Loading data\n",
    "\n",
    "The data we are going to use is the streaming history, which goes exactly one year back. Since we are in February now,January is 2023 but all other months are from 2022."
   ]
  },
  {
   "cell_type": "code",
   "execution_count": 2,
   "metadata": {},
   "outputs": [
    {
     "data": {
      "text/plain": [
       "'/Users/monic/.pyenv/versions/lewagon/bin:/opt/homebrew/Cellar/pyenv/2.3.5/libexec:/Users/monic/.pyenv/plugins/pyenv-virtualenv/bin:/opt/homebrew/Cellar/pyenv/2.3.5/plugins/python-build/bin:/Users/monic/.pyenv/shims:/Users/monic/.pyenv/versions/lewagon/bin:/opt/homebrew/Cellar/pyenv/2.3.5/libexec:/Users/monic/.pyenv/plugins/pyenv-virtualenv/bin:/opt/homebrew/Cellar/pyenv/2.3.5/plugins/python-build/bin:/Users/monic/code/monicasainer/Spotify/raw_data/:/opt/homebrew/Caskroom/google-cloud-sdk/latest/google-cloud-sdk/bin:./bin:./node_modules/.bin:/Users/monic/.pyenv/plugins/pyenv-virtualenv/shims:/Users/monic/.pyenv/shims:/Users/monic/.rbenv/bin:/Users/monic/.pyenv/plugins/pyenv-virtualenv/shims:/opt/homebrew/bin:/opt/homebrew/sbin:/Users/monic/.pyenv/bin:/usr/local/bin:/usr/bin:/bin:/usr/sbin:/sbin:/opt/X11/bin:/usr/local/sbin'"
      ]
     },
     "execution_count": 2,
     "metadata": {},
     "output_type": "execute_result"
    }
   ],
   "source": [
    "import os\n",
    "path=os.environ.get('PATH')\n",
    "path"
   ]
  },
  {
   "cell_type": "code",
   "execution_count": null,
   "metadata": {},
   "outputs": [],
   "source": [
    "# Load and inspect data\n",
    "filename = \"/Users/monic/Downloads/MyData/StreamingHistory0.json\"\n",
    "df = pd.read_json(filename)\n",
    "df.head(10)"
   ]
  },
  {
   "cell_type": "code",
   "execution_count": null,
   "metadata": {},
   "outputs": [],
   "source": [
    "skim(df)"
   ]
  },
  {
   "cell_type": "code",
   "execution_count": null,
   "metadata": {},
   "outputs": [],
   "source": [
    "#Whenever we load in new-to-us data, it's good practice to check the data types of imported data. It is not unusual for something to have been imported in a silly format.\n",
    "\n",
    "# Inspect the data types of the dataframe\n",
    "df.info() # or df.types"
   ]
  },
  {
   "cell_type": "code",
   "execution_count": null,
   "metadata": {},
   "outputs": [],
   "source": [
    "#Let's see what we have here. `int64` means integers, `object` means string (text). The dataframe is mostly correct already from the start, except for the `endTime` column which is currently a string. Since it's actually a date, we will convert it to the pandas datetime format.\n",
    "\n",
    "# Update endTime to be of data type datetime\n",
    "df[\"endTime\"] = df[\"endTime\"].apply(pd.to_datetime)"
   ]
  },
  {
   "cell_type": "code",
   "execution_count": null,
   "metadata": {},
   "outputs": [],
   "source": [
    "df.head(10)"
   ]
  },
  {
   "cell_type": "code",
   "execution_count": null,
   "metadata": {},
   "outputs": [],
   "source": [
    "df.dtypes"
   ]
  },
  {
   "cell_type": "code",
   "execution_count": null,
   "metadata": {},
   "outputs": [],
   "source": [
    "## Intro to data visualization\n",
    "\n",
    "# When visualizing data, what we can do depends fully of what type of data we are dealing with. In this section we will go through some common ways of classifying data types and how we can visualize them\n",
    "\n",
    "# One variable, continous\n",
    "px.histogram(df.msPlayed) #or\n",
    "px.histogram(df,x=\"msPlayed\",nbins=100) #miliseconds played. Count=songs, playlists."
   ]
  },
  {
   "cell_type": "code",
   "execution_count": null,
   "metadata": {},
   "outputs": [],
   "source": [
    "# One variable, categorical\n",
    "\n",
    "# Count how many rows in the data there are for each artistName\n",
    "listens_by_artists=df['artistName'].value_counts()\n",
    "listens_by_artists"
   ]
  },
  {
   "cell_type": "code",
   "execution_count": null,
   "metadata": {},
   "outputs": [],
   "source": [
    "# Plot\n",
    "px.bar(listens_by_artists)"
   ]
  },
  {
   "cell_type": "code",
   "execution_count": null,
   "metadata": {},
   "outputs": [],
   "source": [
    "# Two variables, continuous\n",
    "px.scatter(df,x=\"endTime\",y=\"msPlayed\",hover_data=['artistName'])\n"
   ]
  },
  {
   "cell_type": "code",
   "execution_count": null,
   "metadata": {},
   "outputs": [],
   "source": [
    "\n",
    "#*Additional suggestion* Wow, there's a lot of dots in the plot above. This is partially due to the fact that many days you would have listened to multiple tracks, giving you many rows in the dataset for that day. If we want, we can re-do the same plot but this time look at total time you listened per day.\n",
    "\n",
    "# Count the total msPlayed by date\n",
    "play_time_per_day = df.groupby(df.endTime.dt.date).sum('msPlayed').reset_index() #Total miliseconds played per day.\n",
    "# Plot two continuous variables just as we did above\n",
    "px.scatter(play_time_per_day, x=\"endTime\", y=\"msPlayed\")\n",
    "\n"
   ]
  },
  {
   "cell_type": "code",
   "execution_count": null,
   "metadata": {},
   "outputs": [],
   "source": [
    "# Two variables, continous and categorical\n",
    "\n",
    "px.bar(df[:20],x=\"artistName\", y=\"msPlayed\")\n"
   ]
  },
  {
   "cell_type": "code",
   "execution_count": null,
   "metadata": {},
   "outputs": [],
   "source": [
    "# *Additional suggestion* In the example above, we are just plotting straight from the dataframe. Plotly recognizes this and makes one \"sub-bar\" per record in the table. Just like earlier when plotting the distribution of one, categorical variable, here we might first want to do some aggregations.\n",
    "\n",
    "# For the same type of plot, we can easily show top 10 artists as well, if we first count how long each artist has been listened to over the year.\n",
    "\n",
    "# Get my top ten artists by total playtime\n",
    "playtime_per_artist = df.groupby(\"artistName\", as_index=False)\\\n",
    "  .agg(listeningTime=(\"trackName\", \"count\"))\\\n",
    "  .sort_values(by=\"listeningTime\", ascending=False)\\\n",
    "  .head(10)\n",
    "\n"
   ]
  },
  {
   "cell_type": "code",
   "execution_count": null,
   "metadata": {},
   "outputs": [],
   "source": [
    "# Do the same plot type of two variables, one categorical and one continuous\n",
    "px.bar(playtime_per_artist, x=\"artistName\", y=\"listeningTime\")"
   ]
  },
  {
   "cell_type": "code",
   "execution_count": null,
   "metadata": {},
   "outputs": [],
   "source": [
    "# Three variables, continuous and categorial\n",
    "px.bar(df[:10],x=\"trackName\",y=\"msPlayed\",color=\"artistName\")\n",
    "# px.bar(playtime_per_artist,x=\"trackName\",y=\"msPlayed\",color=\"artistName\")"
   ]
  },
  {
   "attachments": {},
   "cell_type": "markdown",
   "metadata": {},
   "source": [
    "As you can see, data type matters and there is a bit of a limit to how many variables we can explain in one go. To understand this better, we can look at this masterpiece within the data visualization field, where as many as 5 variables are visualized in the same chart!\n",
    "\n",
    "[Link to Gapminder World Health Chart.](https://www.gapminder.org/fw/world-health-chart/) "
   ]
  },
  {
   "attachments": {},
   "cell_type": "markdown",
   "metadata": {},
   "source": [
    "## Time Series additions"
   ]
  },
  {
   "attachments": {},
   "cell_type": "markdown",
   "metadata": {},
   "source": [
    "Time series data can be analyzed and visualized in many interesting ways. In order to do that, let's group the endTime column into month and week. That way we can later aggregate the data over these groupings."
   ]
  },
  {
   "cell_type": "code",
   "execution_count": null,
   "metadata": {},
   "outputs": [],
   "source": [
    "# Extract month, month name and week\n",
    "df[\"monthNumber\"] = df[\"endTime\"].dt.month\n",
    "df[\"month\"] = df[\"endTime\"].dt.month_name()\n",
    "df[\"week\"] = df[\"endTime\"].dt.isocalendar().week\n",
    "\n",
    "# Convert milliseconds to minutes\n",
    "df[\"minutesPlayed\"] = df[\"msPlayed\"] / 1000 / 60"
   ]
  },
  {
   "cell_type": "code",
   "execution_count": null,
   "metadata": {},
   "outputs": [],
   "source": [
    "df.head()"
   ]
  },
  {
   "attachments": {},
   "cell_type": "markdown",
   "metadata": {},
   "source": [
    "## Total streaming per month"
   ]
  },
  {
   "attachments": {},
   "cell_type": "markdown",
   "metadata": {},
   "source": [
    "Let's start with aggregating the data over month, and then displaying this as a line chart. This is a classic time series visualization - seeing what happened to a value over time."
   ]
  },
  {
   "cell_type": "code",
   "execution_count": null,
   "metadata": {},
   "outputs": [],
   "source": [
    "# Group data per month and sum up the listening time\n",
    "music_per_month=df.groupby([\"monthNumber\",\"month\"],as_index=False)\\\n",
    "    .agg(totalTime=(\"minutesPlayed\",\"sum\")) #We include the number bcs we can have more than one month called the same."
   ]
  },
  {
   "cell_type": "code",
   "execution_count": null,
   "metadata": {},
   "outputs": [],
   "source": [
    "# Inspect the grouped dataframe\n",
    "music_per_month.sort_values(by=\"totalTime\",ascending=False)"
   ]
  },
  {
   "cell_type": "code",
   "execution_count": null,
   "metadata": {},
   "outputs": [],
   "source": [
    "# Plot the total streaming time per month as a line graph\n",
    "px.line(music_per_month,x=\"month\",y=\"totalTime\")"
   ]
  },
  {
   "attachments": {},
   "cell_type": "markdown",
   "metadata": {},
   "source": [
    "This is informative and nice, but let's make the chart a bit more fun. Since our time series is exactly one year, like a full cycle, we can make use of the unusual but fun polar chart!"
   ]
  },
  {
   "cell_type": "code",
   "execution_count": null,
   "metadata": {},
   "outputs": [],
   "source": [
    "# As a polar chart\n",
    "px.bar_polar(music_per_month,r=\"totalTime\",theta=\"month\") #check the limitations of this kind of chart."
   ]
  },
  {
   "attachments": {},
   "cell_type": "markdown",
   "metadata": {},
   "source": [
    "Furthermore, we can group the data on weeks instead of months to get some more granular values."
   ]
  },
  {
   "cell_type": "code",
   "execution_count": null,
   "metadata": {},
   "outputs": [],
   "source": [
    "df.dtypes"
   ]
  },
  {
   "cell_type": "code",
   "execution_count": null,
   "metadata": {},
   "outputs": [],
   "source": [
    "# Weekly instead of monthly\n",
    "\n",
    "# 1. Aggregate data\n",
    "music_per_week=df.groupby(['week'],as_index=False).agg(totalTime=(\"minutesPlayed\",\"sum\"))\n",
    "\n",
    "# 2. Convert week from int to string\n",
    "music_per_week[\"week\"] = music_per_week[\"week\"].astype(str) #since week.type= UInt32\n",
    "\n",
    "# 3. Visualize it as a polar chart\n",
    "px.bar_polar(music_per_week,r=\"totalTime\",theta='week').show() \n",
    "\n",
    "# # 4. Add log_r=True to play with the scale\n",
    "px.bar_polar(music_per_week, r='totalTime', theta='week', log_r=True).show() "
   ]
  },
  {
   "attachments": {},
   "cell_type": "markdown",
   "metadata": {},
   "source": [
    "## Flower chart displaying monthly listening time for my top 10 artist"
   ]
  },
  {
   "cell_type": "markdown",
   "metadata": {},
   "source": [
    "Now it's time to make some truly pretty and fun graphs! Let's not only visualize how much we listened to music and podcasts, but also what we actually listened to! :)\n",
    "\n",
    "For any categorical information, such as artists, it's unfortunately hard to include too many categories. We'll therefore start with only our streaming history of the top ten artists."
   ]
  },
  {
   "cell_type": "code",
   "execution_count": null,
   "metadata": {},
   "outputs": [],
   "source": [
    "# Get my top ten artists\n",
    "top_ten = df.groupby(\"artistName\")\\\n",
    "  .agg(listeningEvents=(\"trackName\", \"count\"))\\ \n",
    "  .sort_values(by=\"listeningEvents\", ascending=False)\\\n",
    "  .head(10) #Even if I listen to the same song many times, counts count them.\n",
    "top_ten"
   ]
  },
  {
   "cell_type": "code",
   "execution_count": null,
   "metadata": {},
   "outputs": [],
   "source": [
    "# Group my streaming history by artist (in top 10) and month\n",
    "music_per_month_and_artist = df[df[\"artistName\"].isin(top_ten.index)].groupby([\"artistName\", \"month\"], as_index=False)\\\n",
    "    .agg(listeningTime=(\"msPlayed\", \"sum\"))"
   ]
  },
  {
   "cell_type": "code",
   "execution_count": null,
   "metadata": {},
   "outputs": [],
   "source": [
    "music_per_month_and_artist"
   ]
  },
  {
   "cell_type": "code",
   "execution_count": null,
   "metadata": {},
   "outputs": [],
   "source": [
    "# Specify the order of the months\n",
    "# Put January last if you truly want it in chronological order \n",
    "month_order = {\n",
    "    \"month\": \n",
    "      [\"January\", \n",
    "      \"February\", \n",
    "      \"March\", \n",
    "      \"April\", \n",
    "      \"May\", \n",
    "      \"June\", \n",
    "      \"July\", \n",
    "      \"August\", \n",
    "      \"September\", \n",
    "      \"October\", \n",
    "      \"November\", \n",
    "      \"December\"]\n",
    "}"
   ]
  },
  {
   "cell_type": "code",
   "execution_count": null,
   "metadata": {},
   "outputs": [],
   "source": [
    "# Visualize as a rose/flower chart\n",
    "fig = px.bar_polar(music_per_month_and_artist, \n",
    "    r='listeningTime', \n",
    "    theta='month', \n",
    "    log_r=True, \n",
    "    color=\"artistName\", \n",
    "    barmode=\"group\", \n",
    "    category_orders=month_order,\n",
    "    color_discrete_sequence=px.colors.qualitative.Bold)\n",
    "fig.show()\n",
    "\n",
    "# check this https://plotly.com/python/discrete-color/"
   ]
  },
  {
   "cell_type": "code",
   "execution_count": null,
   "metadata": {},
   "outputs": [],
   "source": [
    "# Adjust background color\n",
    "background_color = \"white\"\n",
    "\n",
    "fig.update_layout(\n",
    "    polar = dict(\n",
    "        bgcolor = background_color,\n",
    "        radialaxis = dict(showticklabels=False, ticks=''),\n",
    "    ),\n",
    "    paper_bgcolor=background_color,\n",
    ")"
   ]
  },
  {
   "cell_type": "code",
   "execution_count": null,
   "metadata": {},
   "outputs": [],
   "source": [
    "# Remove axis\n",
    "fig.update_polars(\n",
    "    angularaxis_gridcolor=background_color, \n",
    "    radialaxis_gridcolor=background_color, \n",
    "    radialaxis_linewidth=0, \n",
    "    angularaxis_linewidth=0)"
   ]
  },
  {
   "cell_type": "code",
   "execution_count": null,
   "metadata": {},
   "outputs": [],
   "source": [
    "# Remove white lines around the \"bars\"\n",
    "fig.update_traces(marker=dict(line=dict(width=0)))"
   ]
  },
  {
   "attachments": {},
   "cell_type": "markdown",
   "metadata": {},
   "source": [
    "## Flower chart displaying monthly listening time and general diverse of my streaming history"
   ]
  },
  {
   "attachments": {},
   "cell_type": "markdown",
   "metadata": {},
   "source": [
    "What we did above was visualizing three variables - time, listening time and artist. The third variable was categorical. We can also use the color to display a continous variable. An interesting variable, which also doesn't exclude any artists, is simply the general diversity of the month. That is: How many unique artists/podcasts did we listen to during a certain month?\n",
    "\n",
    "Again we can easily group and calculate this, and then displaying it by passing it to the color argument of the chart."
   ]
  },
  {
   "cell_type": "code",
   "execution_count": null,
   "metadata": {},
   "outputs": [],
   "source": [
    "# Group by month, aggregate total time and number of unique artists\n",
    "music_per_week = df.groupby([\"week\"], as_index=False)\\\n",
    "  .agg(totalTime=(\"msPlayed\", \"sum\"), nrArtists=(\"artistName\", \"nunique\"))\n",
    "music_per_week[\"week\"] = music_per_week[\"week\"].astype(str)"
   ]
  },
  {
   "cell_type": "code",
   "execution_count": null,
   "metadata": {},
   "outputs": [],
   "source": [
    "# Make the polar chart\n",
    "fig = px.bar_polar(music_per_week, \n",
    "    r='totalTime', \n",
    "    theta='week', \n",
    "    log_r=True, \n",
    "    color=\"nrArtists\", \n",
    "    barmode=\"group\", \n",
    "    category_orders={\"week\": [str(x) for x in range(1, 53)]},\n",
    "    color_continuous_scale=['#E71A8F', '#242254'],\n",
    "    labels={\"nrArtists\": \"Number artists\"})\n",
    "\n",
    "fig.show()"
   ]
  },
  {
   "cell_type": "markdown",
   "metadata": {},
   "source": [
    "Let's finally make this one nice and pretty to post as a story on Instagram or Facebook, just like we normally do with our Spotify wrapped!"
   ]
  },
  {
   "cell_type": "code",
   "execution_count": null,
   "metadata": {},
   "outputs": [],
   "source": [
    "# Set a new background color\n",
    "background_color = \"#dbc5c3\""
   ]
  },
  {
   "cell_type": "code",
   "execution_count": null,
   "metadata": {},
   "outputs": [],
   "source": [
    "# Adjust background, axis, bars and position the color scale\n",
    "fig.update_layout(\n",
    "    polar = dict(\n",
    "        bgcolor = background_color,\n",
    "        radialaxis = dict(showticklabels=False, ticks=''),\n",
    "    ),\n",
    "    paper_bgcolor=background_color,\n",
    "    height=800,\n",
    "    width=500,\n",
    ")\n",
    "\n",
    "fig.update_polars(angularaxis_gridcolor=background_color, \n",
    "    radialaxis_gridcolor=background_color, \n",
    "    radialaxis_linewidth=0, \n",
    "    angularaxis_linewidth=0)\n",
    "\n",
    "fig.update_traces(marker=dict(line=dict(width=0)))\n",
    "\n",
    "fig.update_layout(coloraxis=dict(colorbar=dict(orientation='h', y=0.05, dtick=10)))"
   ]
  },
  {
   "cell_type": "code",
   "execution_count": null,
   "metadata": {},
   "outputs": [],
   "source": []
  }
 ],
 "metadata": {
  "kernelspec": {
   "display_name": "Python 3",
   "language": "python",
   "name": "python3"
  },
  "language_info": {
   "codemirror_mode": {
    "name": "ipython",
    "version": 3
   },
   "file_extension": ".py",
   "mimetype": "text/x-python",
   "name": "python",
   "nbconvert_exporter": "python",
   "pygments_lexer": "ipython3",
   "version": "3.10.6"
  },
  "orig_nbformat": 4,
  "vscode": {
   "interpreter": {
    "hash": "2a40968114b25fa8d3a93c08980097525b519b9ac7bac013b27e750825dc7185"
   }
  }
 },
 "nbformat": 4,
 "nbformat_minor": 2
}
